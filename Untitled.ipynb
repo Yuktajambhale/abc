{
 "cells": [
  {
   "cell_type": "code",
   "execution_count": 1,
   "id": "eeea1400-b88e-42c8-9d1b-5f9eceef1fb7",
   "metadata": {},
   "outputs": [
    {
     "name": "stdout",
     "output_type": "stream",
     "text": [
      "<class 'bool'>\n"
     ]
    }
   ],
   "source": [
    "a=True\n",
    "print(type(a))"
   ]
  },
  {
   "cell_type": "code",
   "execution_count": 5,
   "id": "fe416420-5d6c-4931-89a9-872c5905c864",
   "metadata": {},
   "outputs": [
    {
     "name": "stdin",
     "output_type": "stream",
     "text": [
      "prompt yukta\n"
     ]
    }
   ],
   "source": [
    "var=input(\"prompt\")"
   ]
  },
  {
   "cell_type": "code",
   "execution_count": 9,
   "id": "d7bb3593-04a7-47ba-862f-71a1f70931ff",
   "metadata": {},
   "outputs": [
    {
     "name": "stdin",
     "output_type": "stream",
     "text": [
      "what is your name: yukta\n"
     ]
    },
    {
     "name": "stdout",
     "output_type": "stream",
     "text": [
      "your name is : yukta\n"
     ]
    }
   ],
   "source": [
    "name=input(\"what is your name:\")\n",
    "print(\"your name is :\",name)\n"
   ]
  },
  {
   "cell_type": "code",
   "execution_count": 13,
   "id": "c6739404-b3eb-4f2f-90bd-236dfd0f1d8d",
   "metadata": {},
   "outputs": [
    {
     "name": "stdin",
     "output_type": "stream",
     "text": [
      "enter data 5.6\n"
     ]
    },
    {
     "name": "stdout",
     "output_type": "stream",
     "text": [
      "data 5.6 type of data: <class 'float'>\n"
     ]
    }
   ],
   "source": [
    "data=float(input(\"enter data\"))\n",
    "print(\"data\",data,\"type of data:\",type(data))"
   ]
  },
  {
   "cell_type": "code",
   "execution_count": 17,
   "id": "3395563a-4daf-4658-b9d6-90ee11b4b1bb",
   "metadata": {},
   "outputs": [
    {
     "name": "stdout",
     "output_type": "stream",
     "text": [
      "8.0\n"
     ]
    },
    {
     "data": {
      "text/plain": [
       "int"
      ]
     },
     "execution_count": 17,
     "metadata": {},
     "output_type": "execute_result"
    }
   ],
   "source": [
    "a=8\n",
    "print(float(a))"
   ]
  },
  {
   "cell_type": "code",
   "execution_count": 19,
   "id": "d0b4461c-405a-4718-b8b5-8512a9a28ee6",
   "metadata": {},
   "outputs": [
    {
     "name": "stdin",
     "output_type": "stream",
     "text": [
      "enter the data False\n"
     ]
    },
    {
     "name": "stdout",
     "output_type": "stream",
     "text": [
      "data True type of: <class 'bool'>\n"
     ]
    }
   ],
   "source": [
    "data=bool(input(\"enter the data\"))\n",
    "print(\"data\",data,\"type of:\",type(data))"
   ]
  },
  {
   "cell_type": "code",
   "execution_count": 21,
   "id": "40201887-144f-4409-850c-ccd962c21b2e",
   "metadata": {},
   "outputs": [
    {
     "name": "stdout",
     "output_type": "stream",
     "text": [
      "7\n",
      "9\n"
     ]
    }
   ],
   "source": [
    "a=7\n",
    "b=9\n",
    "print(a)\n",
    "print(b)\n"
   ]
  },
  {
   "cell_type": "code",
   "execution_count": 23,
   "id": "4c32884a-de88-474e-8e2e-545801f07661",
   "metadata": {},
   "outputs": [
    {
     "name": "stdout",
     "output_type": "stream",
     "text": [
      "7 9\n"
     ]
    }
   ],
   "source": [
    "a,b=7,9\n",
    "print(a,b)"
   ]
  },
  {
   "cell_type": "code",
   "execution_count": 25,
   "id": "1a880497-f755-406b-be23-2cf645782130",
   "metadata": {},
   "outputs": [
    {
     "name": "stdout",
     "output_type": "stream",
     "text": [
      "6,9,8\n"
     ]
    }
   ],
   "source": [
    "a=6\n",
    "b=9\n",
    "c=8\n",
    "print(a,b,c,sep=\",\")"
   ]
  },
  {
   "cell_type": "code",
   "execution_count": 27,
   "id": "e8a318fa-351a-4bb4-a94e-92848fbc616a",
   "metadata": {},
   "outputs": [
    {
     "name": "stdout",
     "output_type": "stream",
     "text": [
      "line1,line2,line3\n",
      "line4\n"
     ]
    }
   ],
   "source": [
    "print(\"line1\",end=\",\")\n",
    "print(\"line2\",end=\",\")\n",
    "print(\"line3\")\n",
    "print(\"line4\")"
   ]
  },
  {
   "cell_type": "code",
   "execution_count": 33,
   "id": "af74a5a9-a166-4c2a-afed-0e995bdf284a",
   "metadata": {},
   "outputs": [
    {
     "name": "stdout",
     "output_type": "stream",
     "text": [
      "a is: 10\n",
      "10 is a and b is  9\n",
      "a is  10 and 9 is b\n"
     ]
    }
   ],
   "source": [
    "a=10\n",
    "b=9\n",
    "print(\"a is:\",a)\n",
    "print(a,\"is a and b is \",b)\n",
    "print(\"a is \",a,\"and\",b,\"is b\")"
   ]
  },
  {
   "cell_type": "code",
   "execution_count": 35,
   "id": "953e9f1c-70eb-4521-9377-02812764b56a",
   "metadata": {},
   "outputs": [
    {
     "name": "stdout",
     "output_type": "stream",
     "text": [
      "yukta jambhale\n"
     ]
    }
   ],
   "source": [
    "print(\"yukta \"+\"jambhale\")"
   ]
  },
  {
   "cell_type": "code",
   "execution_count": 37,
   "id": "e7d936de-f63f-4294-8d82-09a334da44f6",
   "metadata": {},
   "outputs": [
    {
     "ename": "TypeError",
     "evalue": "can only concatenate str (not \"int\") to str",
     "output_type": "error",
     "traceback": [
      "\u001b[1;31m---------------------------------------------------------------------------\u001b[0m",
      "\u001b[1;31mTypeError\u001b[0m                                 Traceback (most recent call last)",
      "Cell \u001b[1;32mIn[37], line 1\u001b[0m\n\u001b[1;32m----> 1\u001b[0m \u001b[38;5;28mprint\u001b[39m(\u001b[38;5;124m\"\u001b[39m\u001b[38;5;124myukta\u001b[39m\u001b[38;5;124m\"\u001b[39m\u001b[38;5;241m+\u001b[39m\u001b[38;5;241m10\u001b[39m)\n",
      "\u001b[1;31mTypeError\u001b[0m: can only concatenate str (not \"int\") to str"
     ]
    }
   ],
   "source": [
    "print(\"yukta\"+10)"
   ]
  },
  {
   "cell_type": "code",
   "execution_count": 39,
   "id": "bbad9d63-2993-4d82-83da-b3f6af9377ed",
   "metadata": {},
   "outputs": [
    {
     "name": "stdout",
     "output_type": "stream",
     "text": [
      "10 yukta True\n"
     ]
    }
   ],
   "source": [
    "a,b,c=10,\"yukta\",True\n",
    "print(a,b,c)"
   ]
  },
  {
   "cell_type": "code",
   "execution_count": 45,
   "id": "c9fd2802-3870-4707-b98b-b8c4c84cb003",
   "metadata": {},
   "outputs": [
    {
     "name": "stdout",
     "output_type": "stream",
     "text": [
      "start a: 10 b: 9\n",
      "end a: 9 b: 10\n"
     ]
    }
   ],
   "source": [
    "a=10\n",
    "b=9\n",
    "print(\"start a:\",a,\"b:\",b)\n",
    "a,b=b,a\n",
    "print(\"end a:\",a,\"b:\",b)"
   ]
  },
  {
   "cell_type": "code",
   "execution_count": 49,
   "id": "12a5ab0b-93c2-4f24-b81e-ed5c7ae039c6",
   "metadata": {},
   "outputs": [
    {
     "name": "stdout",
     "output_type": "stream",
     "text": [
      "a is : 10 at ref: 140710371404504\n",
      "a is: 15 at ref: 140710371404664\n",
      "a is: 10 at ref: 140710371404504\n"
     ]
    }
   ],
   "source": [
    "a=10\n",
    "print(\"a is :\",a,\"at ref:\",id(a))\n",
    "a=a+5\n",
    "print(\"a is:\",a,\"at ref:\",id(a))\n",
    "a=a-5\n",
    "print(\"a is:\",a,\"at ref:\",id(a))\n",
    "    "
   ]
  },
  {
   "cell_type": "code",
   "execution_count": 53,
   "id": "5e8316c8-7ce9-4d16-953d-16d13c4ebf81",
   "metadata": {},
   "outputs": [],
   "source": [
    "a=a+1\n",
    "a+=1"
   ]
  },
  {
   "cell_type": "code",
   "execution_count": null,
   "id": "43bf2990-1e8b-43f5-8b41-a9a0d07ced68",
   "metadata": {},
   "outputs": [],
   "source": [
    "a+=0.1"
   ]
  },
  {
   "cell_type": "code",
   "execution_count": 55,
   "id": "5c22511f-ce52-4577-a29a-753cefc7e093",
   "metadata": {},
   "outputs": [
    {
     "data": {
      "text/plain": [
       "5"
      ]
     },
     "execution_count": 55,
     "metadata": {},
     "output_type": "execute_result"
    }
   ],
   "source": [
    "5%30\n"
   ]
  },
  {
   "cell_type": "code",
   "execution_count": 57,
   "id": "8c1266d3-118a-4767-882c-5fdc98f0bc32",
   "metadata": {},
   "outputs": [
    {
     "data": {
      "text/plain": [
       "2.5"
      ]
     },
     "execution_count": 57,
     "metadata": {},
     "output_type": "execute_result"
    }
   ],
   "source": [
    "5/2"
   ]
  },
  {
   "cell_type": "code",
   "execution_count": 59,
   "id": "c800bf62-1ff3-42c8-9085-4f744c7fda7e",
   "metadata": {},
   "outputs": [
    {
     "data": {
      "text/plain": [
       "2"
      ]
     },
     "execution_count": 59,
     "metadata": {},
     "output_type": "execute_result"
    }
   ],
   "source": [
    "5//2"
   ]
  },
  {
   "cell_type": "code",
   "execution_count": 61,
   "id": "1262e91a-cad5-49a3-9120-c09b70cd012a",
   "metadata": {},
   "outputs": [
    {
     "data": {
      "text/plain": [
       "8"
      ]
     },
     "execution_count": 61,
     "metadata": {},
     "output_type": "execute_result"
    }
   ],
   "source": [
    "2**3"
   ]
  },
  {
   "cell_type": "code",
   "execution_count": 63,
   "id": "fb49c57b-ff85-4157-9e85-28d0693d47fc",
   "metadata": {},
   "outputs": [
    {
     "data": {
      "text/plain": [
       "7.0"
      ]
     },
     "execution_count": 63,
     "metadata": {},
     "output_type": "execute_result"
    }
   ],
   "source": [
    "49**0.5"
   ]
  },
  {
   "cell_type": "code",
   "execution_count": 65,
   "id": "ac0e7aea-526f-4d16-8c09-791b7d1e2755",
   "metadata": {},
   "outputs": [
    {
     "data": {
      "text/plain": [
       "12"
      ]
     },
     "execution_count": 65,
     "metadata": {},
     "output_type": "execute_result"
    }
   ],
   "source": [
    "3+5*2-1"
   ]
  },
  {
   "cell_type": "code",
   "execution_count": 67,
   "id": "2c5a382a-5090-4526-baec-954180e9b217",
   "metadata": {},
   "outputs": [
    {
     "data": {
      "text/plain": [
       "5"
      ]
     },
     "execution_count": 67,
     "metadata": {},
     "output_type": "execute_result"
    }
   ],
   "source": [
    "x=10\n",
    "x>>1"
   ]
  },
  {
   "cell_type": "code",
   "execution_count": 69,
   "id": "7be58e4d-99d6-4b9a-aa3d-b6ad2439280e",
   "metadata": {},
   "outputs": [
    {
     "name": "stdin",
     "output_type": "stream",
     "text": [
      "enter the amount in inr 120000\n"
     ]
    },
    {
     "data": {
      "text/plain": [
       "1395.3488372093022"
      ]
     },
     "execution_count": 69,
     "metadata": {},
     "output_type": "execute_result"
    }
   ],
   "source": [
    "inr=float(input(\"enter the amount in inr\"))\n",
    "usd=inr/86\n",
    "usd"
   ]
  },
  {
   "cell_type": "code",
   "execution_count": 71,
   "id": "f43f065d-db21-4895-b9fb-32f76a7b2e8f",
   "metadata": {},
   "outputs": [
    {
     "name": "stdin",
     "output_type": "stream",
     "text": [
      "enter the amount in inr 120000\n"
     ]
    },
    {
     "name": "stdout",
     "output_type": "stream",
     "text": [
      "usd is: 1395.3488372093022\n"
     ]
    }
   ],
   "source": [
    "print(\"usd is:\",float(input(\"enter the amount in inr\"))/86)"
   ]
  },
  {
   "cell_type": "code",
   "execution_count": 75,
   "id": "ec003019-72a0-4771-9f65-4c8e894e359e",
   "metadata": {},
   "outputs": [
    {
     "name": "stdin",
     "output_type": "stream",
     "text": [
      "enter time in H:M:S 1:12:53\n"
     ]
    },
    {
     "name": "stdout",
     "output_type": "stream",
     "text": [
      "given data us H: 1 M 12 S 53\n",
      "total time in seconds 4373\n"
     ]
    }
   ],
   "source": [
    "h,m,s=map(int,input(\"enter time in H:M:S\").split(\":\"))\n",
    "print(\"given data us H:\",h,\"M\",m,\"S\",s)\n",
    "total_seconds=h*3600+m*60+s\n",
    "print(\"total time in seconds\",total_seconds)"
   ]
  },
  {
   "cell_type": "code",
   "execution_count": 79,
   "id": "6629f961-58fc-45b4-8d57-4f6f8c022eb2",
   "metadata": {},
   "outputs": [
    {
     "name": "stdin",
     "output_type": "stream",
     "text": [
      "Enter the number 5\n"
     ]
    },
    {
     "name": "stdout",
     "output_type": "stream",
     "text": [
      "positive\n"
     ]
    }
   ],
   "source": [
    "num=int(input(\"Enter the number\"))\n",
    "if num<0:\n",
    "        print(\"negative\")\n",
    "elif num>0:\n",
    "        print(\"positive\")\n",
    "else:\n",
    "        print(\"zero\")"
   ]
  },
  {
   "cell_type": "code",
   "execution_count": 81,
   "id": "84f89ae0-c678-4ab3-a075-8ea4608a1ffa",
   "metadata": {},
   "outputs": [
    {
     "name": "stdin",
     "output_type": "stream",
     "text": [
      "enter total bill amount: 1250\n"
     ]
    },
    {
     "ename": "NameError",
     "evalue": "name 'amount' is not defined",
     "output_type": "error",
     "traceback": [
      "\u001b[1;31m---------------------------------------------------------------------------\u001b[0m",
      "\u001b[1;31mNameError\u001b[0m                                 Traceback (most recent call last)",
      "Cell \u001b[1;32mIn[81], line 3\u001b[0m\n\u001b[0;32m      1\u001b[0m amout\u001b[38;5;241m=\u001b[39m\u001b[38;5;28mfloat\u001b[39m(\u001b[38;5;28minput\u001b[39m(\u001b[38;5;124m\"\u001b[39m\u001b[38;5;124menter total bill amount:\u001b[39m\u001b[38;5;124m\"\u001b[39m))\n\u001b[0;32m      2\u001b[0m discount\u001b[38;5;241m=\u001b[39m\u001b[38;5;241m0.0\u001b[39m\n\u001b[1;32m----> 3\u001b[0m \u001b[38;5;28;01mif\u001b[39;00m amount\u001b[38;5;241m>\u001b[39m\u001b[38;5;241m1000\u001b[39m \u001b[38;5;129;01mand\u001b[39;00m amount\u001b[38;5;241m<\u001b[39m\u001b[38;5;241m2000\u001b[39m:\n\u001b[0;32m      4\u001b[0m     discount\u001b[38;5;241m=\u001b[39m\u001b[38;5;241m0.10\u001b[39m\n\u001b[0;32m      5\u001b[0m \u001b[38;5;28;01melif\u001b[39;00m amount\u001b[38;5;241m>\u001b[39m\u001b[38;5;241m=\u001b[39m\u001b[38;5;241m2000\u001b[39m \u001b[38;5;129;01mand\u001b[39;00m amount\u001b[38;5;241m<\u001b[39m\u001b[38;5;241m5000\u001b[39m:\n",
      "\u001b[1;31mNameError\u001b[0m: name 'amount' is not defined"
     ]
    }
   ],
   "source": [
    "amout=float(input(\"enter total bill amount:\"))\n",
    "discount=0.0\n",
    "if amount>1000 and amount<2000:\n",
    "    discount=0.10\n",
    "elif amount>=2000 and amount<5000:\n",
    "    discount=0.15\n",
    "elif amount>=5000:\n",
    "    discount=0.20\n",
    "print(\"total amount:\",amount,\"discount of:\",amount*discount)\n",
    "print(\"total amount to be paid :\",amount-(amount*discount))"
   ]
  },
  {
   "cell_type": "code",
   "execution_count": null,
   "id": "9a5b0b6c-300e-4912-9906-e8bd5029670a",
   "metadata": {},
   "outputs": [],
   "source": []
  }
 ],
 "metadata": {
  "kernelspec": {
   "display_name": "Python [conda env:base] *",
   "language": "python",
   "name": "conda-base-py"
  },
  "language_info": {
   "codemirror_mode": {
    "name": "ipython",
    "version": 3
   },
   "file_extension": ".py",
   "mimetype": "text/x-python",
   "name": "python",
   "nbconvert_exporter": "python",
   "pygments_lexer": "ipython3",
   "version": "3.12.7"
  }
 },
 "nbformat": 4,
 "nbformat_minor": 5
}
